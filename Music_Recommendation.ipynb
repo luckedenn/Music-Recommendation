{
  "nbformat": 4,
  "nbformat_minor": 0,
  "metadata": {
    "colab": {
      "provenance": []
    },
    "kernelspec": {
      "name": "python3",
      "display_name": "Python 3"
    },
    "language_info": {
      "name": "python"
    }
  },
  "cells": [
    {
      "cell_type": "markdown",
      "source": [
        "# Import Libarary"
      ],
      "metadata": {
        "id": "ZMZZz4-gWDnr"
      }
    },
    {
      "cell_type": "code",
      "execution_count": 1,
      "metadata": {
        "id": "jB5jRej0CBWP"
      },
      "outputs": [],
      "source": [
        "import os\n",
        "import zipfile\n",
        "import pandas as pd\n",
        "import numpy as np\n",
        "import matplotlib.pyplot as plt\n",
        "import seaborn as sns\n",
        "from sklearn.preprocessing import RobustScaler\n",
        "from sklearn.metrics.pairwise import cosine_similarity\n",
        "import warnings\n",
        "warnings.filterwarnings('ignore')"
      ]
    },
    {
      "cell_type": "markdown",
      "source": [
        "## Import Libraries dan Setup Environment\n",
        "\n",
        "Pada tahap ini, kita mengimport semua library yang diperlukan:\n",
        "- **pandas & numpy**: Manipulasi dan analisis data\n",
        "- **matplotlib & seaborn**: Visualisasi data\n",
        "- **sklearn**: Machine learning tools (RobustScaler, cosine_similarity)\n",
        "- **zipfile & os**: File handling untuk dataset\n",
        "- **warnings**: Menyembunyikan warning yang tidak perlu\n",
        "\n",
        "Library sklearn yang digunakan:\n",
        "- `RobustScaler`: Untuk normalisasi fitur yang robust terhadap outliers\n",
        "- `cosine_similarity`: Untuk menghitung kesamaan antar lagu berdasarkan audio features"
      ],
      "metadata": {
        "id": "3eL0CBRUF_5y"
      }
    },
    {
      "cell_type": "markdown",
      "source": [
        "# Load Dataset"
      ],
      "metadata": {
        "id": "h2lQXsx8WKqm"
      }
    },
    {
      "cell_type": "code",
      "source": [
        "from google.colab import files\n",
        "files.upload()"
      ],
      "metadata": {
        "colab": {
          "base_uri": "https://localhost:8080/",
          "height": 91
        },
        "id": "qtThvnXqCeWj",
        "outputId": "759e4b7a-dad9-4dbb-f7c5-3126b4a9aa37"
      },
      "execution_count": 2,
      "outputs": [
        {
          "output_type": "display_data",
          "data": {
            "text/plain": [
              "<IPython.core.display.HTML object>"
            ],
            "text/html": [
              "\n",
              "     <input type=\"file\" id=\"files-fdf6ee25-5d4f-4f7f-b15e-6dbc7f26115a\" name=\"files[]\" multiple disabled\n",
              "        style=\"border:none\" />\n",
              "     <output id=\"result-fdf6ee25-5d4f-4f7f-b15e-6dbc7f26115a\">\n",
              "      Upload widget is only available when the cell has been executed in the\n",
              "      current browser session. Please rerun this cell to enable.\n",
              "      </output>\n",
              "      <script>// Copyright 2017 Google LLC\n",
              "//\n",
              "// Licensed under the Apache License, Version 2.0 (the \"License\");\n",
              "// you may not use this file except in compliance with the License.\n",
              "// You may obtain a copy of the License at\n",
              "//\n",
              "//      http://www.apache.org/licenses/LICENSE-2.0\n",
              "//\n",
              "// Unless required by applicable law or agreed to in writing, software\n",
              "// distributed under the License is distributed on an \"AS IS\" BASIS,\n",
              "// WITHOUT WARRANTIES OR CONDITIONS OF ANY KIND, either express or implied.\n",
              "// See the License for the specific language governing permissions and\n",
              "// limitations under the License.\n",
              "\n",
              "/**\n",
              " * @fileoverview Helpers for google.colab Python module.\n",
              " */\n",
              "(function(scope) {\n",
              "function span(text, styleAttributes = {}) {\n",
              "  const element = document.createElement('span');\n",
              "  element.textContent = text;\n",
              "  for (const key of Object.keys(styleAttributes)) {\n",
              "    element.style[key] = styleAttributes[key];\n",
              "  }\n",
              "  return element;\n",
              "}\n",
              "\n",
              "// Max number of bytes which will be uploaded at a time.\n",
              "const MAX_PAYLOAD_SIZE = 100 * 1024;\n",
              "\n",
              "function _uploadFiles(inputId, outputId) {\n",
              "  const steps = uploadFilesStep(inputId, outputId);\n",
              "  const outputElement = document.getElementById(outputId);\n",
              "  // Cache steps on the outputElement to make it available for the next call\n",
              "  // to uploadFilesContinue from Python.\n",
              "  outputElement.steps = steps;\n",
              "\n",
              "  return _uploadFilesContinue(outputId);\n",
              "}\n",
              "\n",
              "// This is roughly an async generator (not supported in the browser yet),\n",
              "// where there are multiple asynchronous steps and the Python side is going\n",
              "// to poll for completion of each step.\n",
              "// This uses a Promise to block the python side on completion of each step,\n",
              "// then passes the result of the previous step as the input to the next step.\n",
              "function _uploadFilesContinue(outputId) {\n",
              "  const outputElement = document.getElementById(outputId);\n",
              "  const steps = outputElement.steps;\n",
              "\n",
              "  const next = steps.next(outputElement.lastPromiseValue);\n",
              "  return Promise.resolve(next.value.promise).then((value) => {\n",
              "    // Cache the last promise value to make it available to the next\n",
              "    // step of the generator.\n",
              "    outputElement.lastPromiseValue = value;\n",
              "    return next.value.response;\n",
              "  });\n",
              "}\n",
              "\n",
              "/**\n",
              " * Generator function which is called between each async step of the upload\n",
              " * process.\n",
              " * @param {string} inputId Element ID of the input file picker element.\n",
              " * @param {string} outputId Element ID of the output display.\n",
              " * @return {!Iterable<!Object>} Iterable of next steps.\n",
              " */\n",
              "function* uploadFilesStep(inputId, outputId) {\n",
              "  const inputElement = document.getElementById(inputId);\n",
              "  inputElement.disabled = false;\n",
              "\n",
              "  const outputElement = document.getElementById(outputId);\n",
              "  outputElement.innerHTML = '';\n",
              "\n",
              "  const pickedPromise = new Promise((resolve) => {\n",
              "    inputElement.addEventListener('change', (e) => {\n",
              "      resolve(e.target.files);\n",
              "    });\n",
              "  });\n",
              "\n",
              "  const cancel = document.createElement('button');\n",
              "  inputElement.parentElement.appendChild(cancel);\n",
              "  cancel.textContent = 'Cancel upload';\n",
              "  const cancelPromise = new Promise((resolve) => {\n",
              "    cancel.onclick = () => {\n",
              "      resolve(null);\n",
              "    };\n",
              "  });\n",
              "\n",
              "  // Wait for the user to pick the files.\n",
              "  const files = yield {\n",
              "    promise: Promise.race([pickedPromise, cancelPromise]),\n",
              "    response: {\n",
              "      action: 'starting',\n",
              "    }\n",
              "  };\n",
              "\n",
              "  cancel.remove();\n",
              "\n",
              "  // Disable the input element since further picks are not allowed.\n",
              "  inputElement.disabled = true;\n",
              "\n",
              "  if (!files) {\n",
              "    return {\n",
              "      response: {\n",
              "        action: 'complete',\n",
              "      }\n",
              "    };\n",
              "  }\n",
              "\n",
              "  for (const file of files) {\n",
              "    const li = document.createElement('li');\n",
              "    li.append(span(file.name, {fontWeight: 'bold'}));\n",
              "    li.append(span(\n",
              "        `(${file.type || 'n/a'}) - ${file.size} bytes, ` +\n",
              "        `last modified: ${\n",
              "            file.lastModifiedDate ? file.lastModifiedDate.toLocaleDateString() :\n",
              "                                    'n/a'} - `));\n",
              "    const percent = span('0% done');\n",
              "    li.appendChild(percent);\n",
              "\n",
              "    outputElement.appendChild(li);\n",
              "\n",
              "    const fileDataPromise = new Promise((resolve) => {\n",
              "      const reader = new FileReader();\n",
              "      reader.onload = (e) => {\n",
              "        resolve(e.target.result);\n",
              "      };\n",
              "      reader.readAsArrayBuffer(file);\n",
              "    });\n",
              "    // Wait for the data to be ready.\n",
              "    let fileData = yield {\n",
              "      promise: fileDataPromise,\n",
              "      response: {\n",
              "        action: 'continue',\n",
              "      }\n",
              "    };\n",
              "\n",
              "    // Use a chunked sending to avoid message size limits. See b/62115660.\n",
              "    let position = 0;\n",
              "    do {\n",
              "      const length = Math.min(fileData.byteLength - position, MAX_PAYLOAD_SIZE);\n",
              "      const chunk = new Uint8Array(fileData, position, length);\n",
              "      position += length;\n",
              "\n",
              "      const base64 = btoa(String.fromCharCode.apply(null, chunk));\n",
              "      yield {\n",
              "        response: {\n",
              "          action: 'append',\n",
              "          file: file.name,\n",
              "          data: base64,\n",
              "        },\n",
              "      };\n",
              "\n",
              "      let percentDone = fileData.byteLength === 0 ?\n",
              "          100 :\n",
              "          Math.round((position / fileData.byteLength) * 100);\n",
              "      percent.textContent = `${percentDone}% done`;\n",
              "\n",
              "    } while (position < fileData.byteLength);\n",
              "  }\n",
              "\n",
              "  // All done.\n",
              "  yield {\n",
              "    response: {\n",
              "      action: 'complete',\n",
              "    }\n",
              "  };\n",
              "}\n",
              "\n",
              "scope.google = scope.google || {};\n",
              "scope.google.colab = scope.google.colab || {};\n",
              "scope.google.colab._files = {\n",
              "  _uploadFiles,\n",
              "  _uploadFilesContinue,\n",
              "};\n",
              "})(self);\n",
              "</script> "
            ]
          },
          "metadata": {}
        },
        {
          "output_type": "stream",
          "name": "stdout",
          "text": [
            "Saving kaggle.json to kaggle.json\n"
          ]
        },
        {
          "output_type": "execute_result",
          "data": {
            "text/plain": [
              "{'kaggle.json': b'{\"username\":\"lucascha\",\"key\":\"6ee5fce662be883e09df2bfb406e4795\"}'}"
            ]
          },
          "metadata": {},
          "execution_count": 2
        }
      ]
    },
    {
      "cell_type": "code",
      "source": [
        "# Buat direktori .kaggle dan pindahkan json ke sana\n",
        "!mkdir -p ~/.kaggle\n",
        "!cp kaggle.json ~/.kaggle/\n",
        "\n",
        "# Ubah permission agar tidak error\n",
        "!chmod 600 ~/.kaggle/kaggle.json\n",
        "\n",
        "# Download dataset\n",
        "!kaggle datasets download -d joebeachcapital/30000-spotify-songs\n",
        "\n",
        "# Ekstrak zip\n",
        "with zipfile.ZipFile(\"30000-spotify-songs.zip\", 'r') as zip_ref:\n",
        "    zip_ref.extractall(\"spotify_dataset\")"
      ],
      "metadata": {
        "colab": {
          "base_uri": "https://localhost:8080/"
        },
        "id": "2Wnlf3tICcy7",
        "outputId": "13dad669-ed2d-457c-944c-f160247b33bf"
      },
      "execution_count": 3,
      "outputs": [
        {
          "output_type": "stream",
          "name": "stdout",
          "text": [
            "Dataset URL: https://www.kaggle.com/datasets/joebeachcapital/30000-spotify-songs\n",
            "License(s): DbCL-1.0\n",
            "Downloading 30000-spotify-songs.zip to /content\n",
            "  0% 0.00/3.01M [00:00<?, ?B/s]\n",
            "100% 3.01M/3.01M [00:00<00:00, 686MB/s]\n"
          ]
        }
      ]
    },
    {
      "cell_type": "code",
      "source": [
        "# Load Dataset\n",
        "df = pd.read_csv('/content/spotify_dataset/spotify_songs.csv')"
      ],
      "metadata": {
        "id": "P4The4NsC3a8"
      },
      "execution_count": 4,
      "outputs": []
    },
    {
      "cell_type": "markdown",
      "source": [
        "## 📥 Download dan Setup Dataset\n",
        "\n",
        "**Langkah-langkah:**\n",
        "1. **Upload API Key**: Upload file kaggle.json untuk authentikasi\n",
        "2. **Setup Kaggle API**: Konfigurasi kredensial dan permission\n",
        "3. **Download Dataset**: Download dataset \"30000-spotify-songs\" dari Kaggle\n",
        "4. **Extract Files**: Ekstrak file zip ke folder yang sesuai\n"
      ],
      "metadata": {
        "id": "k759VO8cGTcr"
      }
    },
    {
      "cell_type": "markdown",
      "source": [
        "# Exploratory Data Analysis ( EDA )"
      ],
      "metadata": {
        "id": "gI_handwWOyr"
      }
    },
    {
      "cell_type": "code",
      "source": [
        "df.head()"
      ],
      "metadata": {
        "colab": {
          "base_uri": "https://localhost:8080/",
          "height": 533
        },
        "id": "PtWxHVs3PbIa",
        "outputId": "f830eeb3-a84d-48a1-c696-e3c851b6545b"
      },
      "execution_count": 5,
      "outputs": [
        {
          "output_type": "execute_result",
          "data": {
            "text/plain": [
              "                 track_id                                         track_name  \\\n",
              "0  6f807x0ima9a1j3VPbc7VN  I Don't Care (with Justin Bieber) - Loud Luxur...   \n",
              "1  0r7CVbZTWZgbTCYdfa2P31                    Memories - Dillon Francis Remix   \n",
              "2  1z1Hg7Vb0AhHDiEmnDE79l                    All the Time - Don Diablo Remix   \n",
              "3  75FpbthrwQmzHlBJLuGdC7                  Call You Mine - Keanu Silva Remix   \n",
              "4  1e8PAfcKUYoKkxPhrHqw4x            Someone You Loved - Future Humans Remix   \n",
              "\n",
              "       track_artist  track_popularity          track_album_id  \\\n",
              "0        Ed Sheeran                66  2oCs0DGTsRO98Gh5ZSl2Cx   \n",
              "1          Maroon 5                67  63rPSO264uRjW1X5E6cWv6   \n",
              "2      Zara Larsson                70  1HoSmj2eLcsrR0vE9gThr4   \n",
              "3  The Chainsmokers                60  1nqYsOef1yKKuGOVchbsk6   \n",
              "4     Lewis Capaldi                69  7m7vv9wlQ4i0LFuJiE2zsQ   \n",
              "\n",
              "                                    track_album_name track_album_release_date  \\\n",
              "0  I Don't Care (with Justin Bieber) [Loud Luxury...               2019-06-14   \n",
              "1                    Memories (Dillon Francis Remix)               2019-12-13   \n",
              "2                    All the Time (Don Diablo Remix)               2019-07-05   \n",
              "3                        Call You Mine - The Remixes               2019-07-19   \n",
              "4            Someone You Loved (Future Humans Remix)               2019-03-05   \n",
              "\n",
              "  playlist_name             playlist_id playlist_genre  ... key  loudness  \\\n",
              "0     Pop Remix  37i9dQZF1DXcZDD7cfEKhW            pop  ...   6    -2.634   \n",
              "1     Pop Remix  37i9dQZF1DXcZDD7cfEKhW            pop  ...  11    -4.969   \n",
              "2     Pop Remix  37i9dQZF1DXcZDD7cfEKhW            pop  ...   1    -3.432   \n",
              "3     Pop Remix  37i9dQZF1DXcZDD7cfEKhW            pop  ...   7    -3.778   \n",
              "4     Pop Remix  37i9dQZF1DXcZDD7cfEKhW            pop  ...   1    -4.672   \n",
              "\n",
              "   mode  speechiness  acousticness  instrumentalness  liveness  valence  \\\n",
              "0     1       0.0583        0.1020          0.000000    0.0653    0.518   \n",
              "1     1       0.0373        0.0724          0.004210    0.3570    0.693   \n",
              "2     0       0.0742        0.0794          0.000023    0.1100    0.613   \n",
              "3     1       0.1020        0.0287          0.000009    0.2040    0.277   \n",
              "4     1       0.0359        0.0803          0.000000    0.0833    0.725   \n",
              "\n",
              "     tempo  duration_ms  \n",
              "0  122.036       194754  \n",
              "1   99.972       162600  \n",
              "2  124.008       176616  \n",
              "3  121.956       169093  \n",
              "4  123.976       189052  \n",
              "\n",
              "[5 rows x 23 columns]"
            ],
            "text/html": [
              "\n",
              "  <div id=\"df-4613a873-988f-4ca2-9b18-7eb690627a12\" class=\"colab-df-container\">\n",
              "    <div>\n",
              "<style scoped>\n",
              "    .dataframe tbody tr th:only-of-type {\n",
              "        vertical-align: middle;\n",
              "    }\n",
              "\n",
              "    .dataframe tbody tr th {\n",
              "        vertical-align: top;\n",
              "    }\n",
              "\n",
              "    .dataframe thead th {\n",
              "        text-align: right;\n",
              "    }\n",
              "</style>\n",
              "<table border=\"1\" class=\"dataframe\">\n",
              "  <thead>\n",
              "    <tr style=\"text-align: right;\">\n",
              "      <th></th>\n",
              "      <th>track_id</th>\n",
              "      <th>track_name</th>\n",
              "      <th>track_artist</th>\n",
              "      <th>track_popularity</th>\n",
              "      <th>track_album_id</th>\n",
              "      <th>track_album_name</th>\n",
              "      <th>track_album_release_date</th>\n",
              "      <th>playlist_name</th>\n",
              "      <th>playlist_id</th>\n",
              "      <th>playlist_genre</th>\n",
              "      <th>...</th>\n",
              "      <th>key</th>\n",
              "      <th>loudness</th>\n",
              "      <th>mode</th>\n",
              "      <th>speechiness</th>\n",
              "      <th>acousticness</th>\n",
              "      <th>instrumentalness</th>\n",
              "      <th>liveness</th>\n",
              "      <th>valence</th>\n",
              "      <th>tempo</th>\n",
              "      <th>duration_ms</th>\n",
              "    </tr>\n",
              "  </thead>\n",
              "  <tbody>\n",
              "    <tr>\n",
              "      <th>0</th>\n",
              "      <td>6f807x0ima9a1j3VPbc7VN</td>\n",
              "      <td>I Don't Care (with Justin Bieber) - Loud Luxur...</td>\n",
              "      <td>Ed Sheeran</td>\n",
              "      <td>66</td>\n",
              "      <td>2oCs0DGTsRO98Gh5ZSl2Cx</td>\n",
              "      <td>I Don't Care (with Justin Bieber) [Loud Luxury...</td>\n",
              "      <td>2019-06-14</td>\n",
              "      <td>Pop Remix</td>\n",
              "      <td>37i9dQZF1DXcZDD7cfEKhW</td>\n",
              "      <td>pop</td>\n",
              "      <td>...</td>\n",
              "      <td>6</td>\n",
              "      <td>-2.634</td>\n",
              "      <td>1</td>\n",
              "      <td>0.0583</td>\n",
              "      <td>0.1020</td>\n",
              "      <td>0.000000</td>\n",
              "      <td>0.0653</td>\n",
              "      <td>0.518</td>\n",
              "      <td>122.036</td>\n",
              "      <td>194754</td>\n",
              "    </tr>\n",
              "    <tr>\n",
              "      <th>1</th>\n",
              "      <td>0r7CVbZTWZgbTCYdfa2P31</td>\n",
              "      <td>Memories - Dillon Francis Remix</td>\n",
              "      <td>Maroon 5</td>\n",
              "      <td>67</td>\n",
              "      <td>63rPSO264uRjW1X5E6cWv6</td>\n",
              "      <td>Memories (Dillon Francis Remix)</td>\n",
              "      <td>2019-12-13</td>\n",
              "      <td>Pop Remix</td>\n",
              "      <td>37i9dQZF1DXcZDD7cfEKhW</td>\n",
              "      <td>pop</td>\n",
              "      <td>...</td>\n",
              "      <td>11</td>\n",
              "      <td>-4.969</td>\n",
              "      <td>1</td>\n",
              "      <td>0.0373</td>\n",
              "      <td>0.0724</td>\n",
              "      <td>0.004210</td>\n",
              "      <td>0.3570</td>\n",
              "      <td>0.693</td>\n",
              "      <td>99.972</td>\n",
              "      <td>162600</td>\n",
              "    </tr>\n",
              "    <tr>\n",
              "      <th>2</th>\n",
              "      <td>1z1Hg7Vb0AhHDiEmnDE79l</td>\n",
              "      <td>All the Time - Don Diablo Remix</td>\n",
              "      <td>Zara Larsson</td>\n",
              "      <td>70</td>\n",
              "      <td>1HoSmj2eLcsrR0vE9gThr4</td>\n",
              "      <td>All the Time (Don Diablo Remix)</td>\n",
              "      <td>2019-07-05</td>\n",
              "      <td>Pop Remix</td>\n",
              "      <td>37i9dQZF1DXcZDD7cfEKhW</td>\n",
              "      <td>pop</td>\n",
              "      <td>...</td>\n",
              "      <td>1</td>\n",
              "      <td>-3.432</td>\n",
              "      <td>0</td>\n",
              "      <td>0.0742</td>\n",
              "      <td>0.0794</td>\n",
              "      <td>0.000023</td>\n",
              "      <td>0.1100</td>\n",
              "      <td>0.613</td>\n",
              "      <td>124.008</td>\n",
              "      <td>176616</td>\n",
              "    </tr>\n",
              "    <tr>\n",
              "      <th>3</th>\n",
              "      <td>75FpbthrwQmzHlBJLuGdC7</td>\n",
              "      <td>Call You Mine - Keanu Silva Remix</td>\n",
              "      <td>The Chainsmokers</td>\n",
              "      <td>60</td>\n",
              "      <td>1nqYsOef1yKKuGOVchbsk6</td>\n",
              "      <td>Call You Mine - The Remixes</td>\n",
              "      <td>2019-07-19</td>\n",
              "      <td>Pop Remix</td>\n",
              "      <td>37i9dQZF1DXcZDD7cfEKhW</td>\n",
              "      <td>pop</td>\n",
              "      <td>...</td>\n",
              "      <td>7</td>\n",
              "      <td>-3.778</td>\n",
              "      <td>1</td>\n",
              "      <td>0.1020</td>\n",
              "      <td>0.0287</td>\n",
              "      <td>0.000009</td>\n",
              "      <td>0.2040</td>\n",
              "      <td>0.277</td>\n",
              "      <td>121.956</td>\n",
              "      <td>169093</td>\n",
              "    </tr>\n",
              "    <tr>\n",
              "      <th>4</th>\n",
              "      <td>1e8PAfcKUYoKkxPhrHqw4x</td>\n",
              "      <td>Someone You Loved - Future Humans Remix</td>\n",
              "      <td>Lewis Capaldi</td>\n",
              "      <td>69</td>\n",
              "      <td>7m7vv9wlQ4i0LFuJiE2zsQ</td>\n",
              "      <td>Someone You Loved (Future Humans Remix)</td>\n",
              "      <td>2019-03-05</td>\n",
              "      <td>Pop Remix</td>\n",
              "      <td>37i9dQZF1DXcZDD7cfEKhW</td>\n",
              "      <td>pop</td>\n",
              "      <td>...</td>\n",
              "      <td>1</td>\n",
              "      <td>-4.672</td>\n",
              "      <td>1</td>\n",
              "      <td>0.0359</td>\n",
              "      <td>0.0803</td>\n",
              "      <td>0.000000</td>\n",
              "      <td>0.0833</td>\n",
              "      <td>0.725</td>\n",
              "      <td>123.976</td>\n",
              "      <td>189052</td>\n",
              "    </tr>\n",
              "  </tbody>\n",
              "</table>\n",
              "<p>5 rows × 23 columns</p>\n",
              "</div>\n",
              "    <div class=\"colab-df-buttons\">\n",
              "\n",
              "  <div class=\"colab-df-container\">\n",
              "    <button class=\"colab-df-convert\" onclick=\"convertToInteractive('df-4613a873-988f-4ca2-9b18-7eb690627a12')\"\n",
              "            title=\"Convert this dataframe to an interactive table.\"\n",
              "            style=\"display:none;\">\n",
              "\n",
              "  <svg xmlns=\"http://www.w3.org/2000/svg\" height=\"24px\" viewBox=\"0 -960 960 960\">\n",
              "    <path d=\"M120-120v-720h720v720H120Zm60-500h600v-160H180v160Zm220 220h160v-160H400v160Zm0 220h160v-160H400v160ZM180-400h160v-160H180v160Zm440 0h160v-160H620v160ZM180-180h160v-160H180v160Zm440 0h160v-160H620v160Z\"/>\n",
              "  </svg>\n",
              "    </button>\n",
              "\n",
              "  <style>\n",
              "    .colab-df-container {\n",
              "      display:flex;\n",
              "      gap: 12px;\n",
              "    }\n",
              "\n",
              "    .colab-df-convert {\n",
              "      background-color: #E8F0FE;\n",
              "      border: none;\n",
              "      border-radius: 50%;\n",
              "      cursor: pointer;\n",
              "      display: none;\n",
              "      fill: #1967D2;\n",
              "      height: 32px;\n",
              "      padding: 0 0 0 0;\n",
              "      width: 32px;\n",
              "    }\n",
              "\n",
              "    .colab-df-convert:hover {\n",
              "      background-color: #E2EBFA;\n",
              "      box-shadow: 0px 1px 2px rgba(60, 64, 67, 0.3), 0px 1px 3px 1px rgba(60, 64, 67, 0.15);\n",
              "      fill: #174EA6;\n",
              "    }\n",
              "\n",
              "    .colab-df-buttons div {\n",
              "      margin-bottom: 4px;\n",
              "    }\n",
              "\n",
              "    [theme=dark] .colab-df-convert {\n",
              "      background-color: #3B4455;\n",
              "      fill: #D2E3FC;\n",
              "    }\n",
              "\n",
              "    [theme=dark] .colab-df-convert:hover {\n",
              "      background-color: #434B5C;\n",
              "      box-shadow: 0px 1px 3px 1px rgba(0, 0, 0, 0.15);\n",
              "      filter: drop-shadow(0px 1px 2px rgba(0, 0, 0, 0.3));\n",
              "      fill: #FFFFFF;\n",
              "    }\n",
              "  </style>\n",
              "\n",
              "    <script>\n",
              "      const buttonEl =\n",
              "        document.querySelector('#df-4613a873-988f-4ca2-9b18-7eb690627a12 button.colab-df-convert');\n",
              "      buttonEl.style.display =\n",
              "        google.colab.kernel.accessAllowed ? 'block' : 'none';\n",
              "\n",
              "      async function convertToInteractive(key) {\n",
              "        const element = document.querySelector('#df-4613a873-988f-4ca2-9b18-7eb690627a12');\n",
              "        const dataTable =\n",
              "          await google.colab.kernel.invokeFunction('convertToInteractive',\n",
              "                                                    [key], {});\n",
              "        if (!dataTable) return;\n",
              "\n",
              "        const docLinkHtml = 'Like what you see? Visit the ' +\n",
              "          '<a target=\"_blank\" href=https://colab.research.google.com/notebooks/data_table.ipynb>data table notebook</a>'\n",
              "          + ' to learn more about interactive tables.';\n",
              "        element.innerHTML = '';\n",
              "        dataTable['output_type'] = 'display_data';\n",
              "        await google.colab.output.renderOutput(dataTable, element);\n",
              "        const docLink = document.createElement('div');\n",
              "        docLink.innerHTML = docLinkHtml;\n",
              "        element.appendChild(docLink);\n",
              "      }\n",
              "    </script>\n",
              "  </div>\n",
              "\n",
              "\n",
              "    <div id=\"df-3015039c-7dbb-465d-bbff-79673e7c5225\">\n",
              "      <button class=\"colab-df-quickchart\" onclick=\"quickchart('df-3015039c-7dbb-465d-bbff-79673e7c5225')\"\n",
              "                title=\"Suggest charts\"\n",
              "                style=\"display:none;\">\n",
              "\n",
              "<svg xmlns=\"http://www.w3.org/2000/svg\" height=\"24px\"viewBox=\"0 0 24 24\"\n",
              "     width=\"24px\">\n",
              "    <g>\n",
              "        <path d=\"M19 3H5c-1.1 0-2 .9-2 2v14c0 1.1.9 2 2 2h14c1.1 0 2-.9 2-2V5c0-1.1-.9-2-2-2zM9 17H7v-7h2v7zm4 0h-2V7h2v10zm4 0h-2v-4h2v4z\"/>\n",
              "    </g>\n",
              "</svg>\n",
              "      </button>\n",
              "\n",
              "<style>\n",
              "  .colab-df-quickchart {\n",
              "      --bg-color: #E8F0FE;\n",
              "      --fill-color: #1967D2;\n",
              "      --hover-bg-color: #E2EBFA;\n",
              "      --hover-fill-color: #174EA6;\n",
              "      --disabled-fill-color: #AAA;\n",
              "      --disabled-bg-color: #DDD;\n",
              "  }\n",
              "\n",
              "  [theme=dark] .colab-df-quickchart {\n",
              "      --bg-color: #3B4455;\n",
              "      --fill-color: #D2E3FC;\n",
              "      --hover-bg-color: #434B5C;\n",
              "      --hover-fill-color: #FFFFFF;\n",
              "      --disabled-bg-color: #3B4455;\n",
              "      --disabled-fill-color: #666;\n",
              "  }\n",
              "\n",
              "  .colab-df-quickchart {\n",
              "    background-color: var(--bg-color);\n",
              "    border: none;\n",
              "    border-radius: 50%;\n",
              "    cursor: pointer;\n",
              "    display: none;\n",
              "    fill: var(--fill-color);\n",
              "    height: 32px;\n",
              "    padding: 0;\n",
              "    width: 32px;\n",
              "  }\n",
              "\n",
              "  .colab-df-quickchart:hover {\n",
              "    background-color: var(--hover-bg-color);\n",
              "    box-shadow: 0 1px 2px rgba(60, 64, 67, 0.3), 0 1px 3px 1px rgba(60, 64, 67, 0.15);\n",
              "    fill: var(--button-hover-fill-color);\n",
              "  }\n",
              "\n",
              "  .colab-df-quickchart-complete:disabled,\n",
              "  .colab-df-quickchart-complete:disabled:hover {\n",
              "    background-color: var(--disabled-bg-color);\n",
              "    fill: var(--disabled-fill-color);\n",
              "    box-shadow: none;\n",
              "  }\n",
              "\n",
              "  .colab-df-spinner {\n",
              "    border: 2px solid var(--fill-color);\n",
              "    border-color: transparent;\n",
              "    border-bottom-color: var(--fill-color);\n",
              "    animation:\n",
              "      spin 1s steps(1) infinite;\n",
              "  }\n",
              "\n",
              "  @keyframes spin {\n",
              "    0% {\n",
              "      border-color: transparent;\n",
              "      border-bottom-color: var(--fill-color);\n",
              "      border-left-color: var(--fill-color);\n",
              "    }\n",
              "    20% {\n",
              "      border-color: transparent;\n",
              "      border-left-color: var(--fill-color);\n",
              "      border-top-color: var(--fill-color);\n",
              "    }\n",
              "    30% {\n",
              "      border-color: transparent;\n",
              "      border-left-color: var(--fill-color);\n",
              "      border-top-color: var(--fill-color);\n",
              "      border-right-color: var(--fill-color);\n",
              "    }\n",
              "    40% {\n",
              "      border-color: transparent;\n",
              "      border-right-color: var(--fill-color);\n",
              "      border-top-color: var(--fill-color);\n",
              "    }\n",
              "    60% {\n",
              "      border-color: transparent;\n",
              "      border-right-color: var(--fill-color);\n",
              "    }\n",
              "    80% {\n",
              "      border-color: transparent;\n",
              "      border-right-color: var(--fill-color);\n",
              "      border-bottom-color: var(--fill-color);\n",
              "    }\n",
              "    90% {\n",
              "      border-color: transparent;\n",
              "      border-bottom-color: var(--fill-color);\n",
              "    }\n",
              "  }\n",
              "</style>\n",
              "\n",
              "      <script>\n",
              "        async function quickchart(key) {\n",
              "          const quickchartButtonEl =\n",
              "            document.querySelector('#' + key + ' button');\n",
              "          quickchartButtonEl.disabled = true;  // To prevent multiple clicks.\n",
              "          quickchartButtonEl.classList.add('colab-df-spinner');\n",
              "          try {\n",
              "            const charts = await google.colab.kernel.invokeFunction(\n",
              "                'suggestCharts', [key], {});\n",
              "          } catch (error) {\n",
              "            console.error('Error during call to suggestCharts:', error);\n",
              "          }\n",
              "          quickchartButtonEl.classList.remove('colab-df-spinner');\n",
              "          quickchartButtonEl.classList.add('colab-df-quickchart-complete');\n",
              "        }\n",
              "        (() => {\n",
              "          let quickchartButtonEl =\n",
              "            document.querySelector('#df-3015039c-7dbb-465d-bbff-79673e7c5225 button');\n",
              "          quickchartButtonEl.style.display =\n",
              "            google.colab.kernel.accessAllowed ? 'block' : 'none';\n",
              "        })();\n",
              "      </script>\n",
              "    </div>\n",
              "\n",
              "    </div>\n",
              "  </div>\n"
            ],
            "application/vnd.google.colaboratory.intrinsic+json": {
              "type": "dataframe",
              "variable_name": "df"
            }
          },
          "metadata": {},
          "execution_count": 5
        }
      ]
    },
    {
      "cell_type": "markdown",
      "source": [
        "- Menampilkan 5 baris pertama dari dataset untuk melihat struktur dan beberapa contoh data lagu yang tersedia."
      ],
      "metadata": {
        "id": "w6xAofpIMMgr"
      }
    },
    {
      "cell_type": "code",
      "source": [
        "df.shape"
      ],
      "metadata": {
        "colab": {
          "base_uri": "https://localhost:8080/"
        },
        "id": "hzT7kGXAzqng",
        "outputId": "b6e8854c-def8-4b63-f716-7bb274cee456"
      },
      "execution_count": 6,
      "outputs": [
        {
          "output_type": "execute_result",
          "data": {
            "text/plain": [
              "(32833, 23)"
            ]
          },
          "metadata": {},
          "execution_count": 6
        }
      ]
    },
    {
      "cell_type": "markdown",
      "source": [
        "- pada tahap ini saya melihat struktur data (jumlah baris dan kolom) dan mengetahui bahwa dataset tersebut memiliki 32833 baris dan 23 fitur atau kolom"
      ],
      "metadata": {
        "id": "_rb3LQgWG4DF"
      }
    },
    {
      "cell_type": "code",
      "source": [
        "# Info kolom dan tipe data\n",
        "df.info()"
      ],
      "metadata": {
        "colab": {
          "base_uri": "https://localhost:8080/"
        },
        "id": "CJrqsyDHPIZe",
        "outputId": "e8b674f4-2b82-48fc-8144-aa244117643d"
      },
      "execution_count": 7,
      "outputs": [
        {
          "output_type": "stream",
          "name": "stdout",
          "text": [
            "<class 'pandas.core.frame.DataFrame'>\n",
            "RangeIndex: 32833 entries, 0 to 32832\n",
            "Data columns (total 23 columns):\n",
            " #   Column                    Non-Null Count  Dtype  \n",
            "---  ------                    --------------  -----  \n",
            " 0   track_id                  32833 non-null  object \n",
            " 1   track_name                32828 non-null  object \n",
            " 2   track_artist              32828 non-null  object \n",
            " 3   track_popularity          32833 non-null  int64  \n",
            " 4   track_album_id            32833 non-null  object \n",
            " 5   track_album_name          32828 non-null  object \n",
            " 6   track_album_release_date  32833 non-null  object \n",
            " 7   playlist_name             32833 non-null  object \n",
            " 8   playlist_id               32833 non-null  object \n",
            " 9   playlist_genre            32833 non-null  object \n",
            " 10  playlist_subgenre         32833 non-null  object \n",
            " 11  danceability              32833 non-null  float64\n",
            " 12  energy                    32833 non-null  float64\n",
            " 13  key                       32833 non-null  int64  \n",
            " 14  loudness                  32833 non-null  float64\n",
            " 15  mode                      32833 non-null  int64  \n",
            " 16  speechiness               32833 non-null  float64\n",
            " 17  acousticness              32833 non-null  float64\n",
            " 18  instrumentalness          32833 non-null  float64\n",
            " 19  liveness                  32833 non-null  float64\n",
            " 20  valence                   32833 non-null  float64\n",
            " 21  tempo                     32833 non-null  float64\n",
            " 22  duration_ms               32833 non-null  int64  \n",
            "dtypes: float64(9), int64(4), object(10)\n",
            "memory usage: 5.8+ MB\n"
          ]
        }
      ]
    },
    {
      "cell_type": "markdown",
      "source": [
        "- tahap ini dilakukan untuk melihat Tipe data setiap kolom/fitur yang ada dalam dataset"
      ],
      "metadata": {
        "id": "uT9UQqJlHIkX"
      }
    },
    {
      "cell_type": "code",
      "source": [
        "# Menampilkan jumlah baris duplikat (seluruh kolom sama persis)\n",
        "df.duplicated().sum()"
      ],
      "metadata": {
        "id": "nNhjsuX3YRnW",
        "outputId": "49fa104e-f351-4514-f491-060b618614e9",
        "colab": {
          "base_uri": "https://localhost:8080/"
        }
      },
      "execution_count": 8,
      "outputs": [
        {
          "output_type": "execute_result",
          "data": {
            "text/plain": [
              "np.int64(0)"
            ]
          },
          "metadata": {},
          "execution_count": 8
        }
      ]
    },
    {
      "cell_type": "markdown",
      "source": [
        "- Menghitung jumlah baris yang merupakan duplikat sempurna dari baris lain."
      ],
      "metadata": {
        "id": "ycbxI3C-MZNI"
      }
    },
    {
      "cell_type": "code",
      "source": [
        "# Cek missing value\n",
        "df.isnull().sum()"
      ],
      "metadata": {
        "colab": {
          "base_uri": "https://localhost:8080/",
          "height": 805
        },
        "id": "OblTcnAQPJdw",
        "outputId": "f73f0871-2bf3-4575-9af6-e59f1823a8dc"
      },
      "execution_count": 9,
      "outputs": [
        {
          "output_type": "execute_result",
          "data": {
            "text/plain": [
              "track_id                    0\n",
              "track_name                  5\n",
              "track_artist                5\n",
              "track_popularity            0\n",
              "track_album_id              0\n",
              "track_album_name            5\n",
              "track_album_release_date    0\n",
              "playlist_name               0\n",
              "playlist_id                 0\n",
              "playlist_genre              0\n",
              "playlist_subgenre           0\n",
              "danceability                0\n",
              "energy                      0\n",
              "key                         0\n",
              "loudness                    0\n",
              "mode                        0\n",
              "speechiness                 0\n",
              "acousticness                0\n",
              "instrumentalness            0\n",
              "liveness                    0\n",
              "valence                     0\n",
              "tempo                       0\n",
              "duration_ms                 0\n",
              "dtype: int64"
            ],
            "text/html": [
              "<div>\n",
              "<style scoped>\n",
              "    .dataframe tbody tr th:only-of-type {\n",
              "        vertical-align: middle;\n",
              "    }\n",
              "\n",
              "    .dataframe tbody tr th {\n",
              "        vertical-align: top;\n",
              "    }\n",
              "\n",
              "    .dataframe thead th {\n",
              "        text-align: right;\n",
              "    }\n",
              "</style>\n",
              "<table border=\"1\" class=\"dataframe\">\n",
              "  <thead>\n",
              "    <tr style=\"text-align: right;\">\n",
              "      <th></th>\n",
              "      <th>0</th>\n",
              "    </tr>\n",
              "  </thead>\n",
              "  <tbody>\n",
              "    <tr>\n",
              "      <th>track_id</th>\n",
              "      <td>0</td>\n",
              "    </tr>\n",
              "    <tr>\n",
              "      <th>track_name</th>\n",
              "      <td>5</td>\n",
              "    </tr>\n",
              "    <tr>\n",
              "      <th>track_artist</th>\n",
              "      <td>5</td>\n",
              "    </tr>\n",
              "    <tr>\n",
              "      <th>track_popularity</th>\n",
              "      <td>0</td>\n",
              "    </tr>\n",
              "    <tr>\n",
              "      <th>track_album_id</th>\n",
              "      <td>0</td>\n",
              "    </tr>\n",
              "    <tr>\n",
              "      <th>track_album_name</th>\n",
              "      <td>5</td>\n",
              "    </tr>\n",
              "    <tr>\n",
              "      <th>track_album_release_date</th>\n",
              "      <td>0</td>\n",
              "    </tr>\n",
              "    <tr>\n",
              "      <th>playlist_name</th>\n",
              "      <td>0</td>\n",
              "    </tr>\n",
              "    <tr>\n",
              "      <th>playlist_id</th>\n",
              "      <td>0</td>\n",
              "    </tr>\n",
              "    <tr>\n",
              "      <th>playlist_genre</th>\n",
              "      <td>0</td>\n",
              "    </tr>\n",
              "    <tr>\n",
              "      <th>playlist_subgenre</th>\n",
              "      <td>0</td>\n",
              "    </tr>\n",
              "    <tr>\n",
              "      <th>danceability</th>\n",
              "      <td>0</td>\n",
              "    </tr>\n",
              "    <tr>\n",
              "      <th>energy</th>\n",
              "      <td>0</td>\n",
              "    </tr>\n",
              "    <tr>\n",
              "      <th>key</th>\n",
              "      <td>0</td>\n",
              "    </tr>\n",
              "    <tr>\n",
              "      <th>loudness</th>\n",
              "      <td>0</td>\n",
              "    </tr>\n",
              "    <tr>\n",
              "      <th>mode</th>\n",
              "      <td>0</td>\n",
              "    </tr>\n",
              "    <tr>\n",
              "      <th>speechiness</th>\n",
              "      <td>0</td>\n",
              "    </tr>\n",
              "    <tr>\n",
              "      <th>acousticness</th>\n",
              "      <td>0</td>\n",
              "    </tr>\n",
              "    <tr>\n",
              "      <th>instrumentalness</th>\n",
              "      <td>0</td>\n",
              "    </tr>\n",
              "    <tr>\n",
              "      <th>liveness</th>\n",
              "      <td>0</td>\n",
              "    </tr>\n",
              "    <tr>\n",
              "      <th>valence</th>\n",
              "      <td>0</td>\n",
              "    </tr>\n",
              "    <tr>\n",
              "      <th>tempo</th>\n",
              "      <td>0</td>\n",
              "    </tr>\n",
              "    <tr>\n",
              "      <th>duration_ms</th>\n",
              "      <td>0</td>\n",
              "    </tr>\n",
              "  </tbody>\n",
              "</table>\n",
              "</div><br><label><b>dtype:</b> int64</label>"
            ]
          },
          "metadata": {},
          "execution_count": 9
        }
      ]
    },
    {
      "cell_type": "markdown",
      "source": [
        "- Menampilkan jumlah nilai yang hilang (null) untuk setiap kolom."
      ],
      "metadata": {
        "id": "yXF6pnzbGu3n"
      }
    },
    {
      "cell_type": "code",
      "source": [
        "plt.figure(figsize=(12, 6))\n",
        "df['playlist_genre'].value_counts().plot(kind='barh', color='skyblue')\n",
        "plt.title(\"Distribusi Genre Playlist\")\n",
        "plt.xlabel(\"Jumlah Lagu\")\n",
        "plt.ylabel(\"Genre\")\n",
        "plt.show()"
      ],
      "metadata": {
        "colab": {
          "base_uri": "https://localhost:8080/",
          "height": 564
        },
        "id": "gamZAAV9Pgmg",
        "outputId": "c35819b2-ef4d-4696-b542-990ce2e57ed1"
      },
      "execution_count": 10,
      "outputs": [
        {
          "output_type": "display_data",
          "data": {
            "text/plain": [
              "<Figure size 1200x600 with 1 Axes>"
            ],
            "image/png": "[encoded data removed]"
          },
          "metadata": {}
        }
      ]
    },
    {
      "cell_type": "code",
      "source": [
        "# Ambil kolom numerik utama\n",
        "audio_features = [\n",
        "    'danceability', 'energy', 'valence', 'tempo',\n",
        "    'acousticness', 'instrumentalness', 'liveness', 'speechiness'\n",
        "]\n",
        "\n",
        "plt.figure(figsize=(10, 8))\n",
        "sns.heatmap(df[audio_features].corr(), annot=True, cmap='coolwarm')\n",
        "plt.title(\"Korelasi Antar Audio Features\")\n",
        "plt.show()"
      ],
      "metadata": {
        "colab": {
          "base_uri": "https://localhost:8080/",
          "height": 805
        },
        "id": "fMCz1IAlPw48",
        "outputId": "b4418224-97ce-44b8-8174-5a15e19cb092"
      },
      "execution_count": 11,
      "outputs": [
        {
          "output_type": "display_data",
          "data": {
            "text/plain": [
              "<Figure size 1000x800 with 2 Axes>"
            ],
            "image/png": "[encoded data removed]"
          },
          "metadata": {}
        }
      ]
    },
    {
      "cell_type": "markdown",
      "source": [
        "-  Pada tahap ini saya Membuat heatmap untuk menunjukkan korelasi antara fitur audio seperti danceability, energy, tempo, dll. Ini membantu memahami hubungan antar fitur numerik."
      ],
      "metadata": {
        "id": "EE3tcxFwHsPr"
      }
    },
    {
      "cell_type": "markdown",
      "source": [
        "# Data Preprocessing"
      ],
      "metadata": {
        "id": "rzLEkQ06XM2p"
      }
    },
    {
      "cell_type": "code",
      "source": [
        "# Fitur yang digunakan\n",
        "features = ['danceability', 'energy', 'loudness', 'speechiness', 'acousticness',\n",
        "            'instrumentalness', 'liveness', 'valence', 'tempo', 'track_popularity']"
      ],
      "metadata": {
        "id": "dDrRkoz63mFW"
      },
      "execution_count": 12,
      "outputs": []
    },
    {
      "cell_type": "code",
      "source": [
        "# Hapus data yang memiliki missing values pada fitur tersebut\n",
        "df = df.dropna(subset=features)"
      ],
      "metadata": {
        "id": "QwCDjO4H4WWk"
      },
      "execution_count": 13,
      "outputs": []
    },
    {
      "cell_type": "code",
      "source": [
        "# Hilangkan duplikasi berdasarkan 'track_name' + 'track_artist'\n",
        "df_unique = df.drop_duplicates(subset=['track_name', 'track_artist']).copy()"
      ],
      "metadata": {
        "id": "E8DpIFAo3obz"
      },
      "execution_count": 14,
      "outputs": []
    },
    {
      "cell_type": "code",
      "source": [
        "# Simpan nama lagu untuk index\n",
        "df_features = df_unique[['track_name', 'track_artist'] + features].copy()\n",
        "df_features.set_index(['track_name', 'track_artist'], inplace=True)"
      ],
      "metadata": {
        "id": "n-RYf1xv3rQx"
      },
      "execution_count": 15,
      "outputs": []
    },
    {
      "cell_type": "code",
      "source": [
        "# Scaling\n",
        "scaler = RobustScaler()\n",
        "df_scaled = df_features.copy()\n",
        "df_scaled[features] = scaler.fit_transform(df_scaled[features])"
      ],
      "metadata": {
        "id": "JkWN-g-Q3tCg"
      },
      "execution_count": 16,
      "outputs": []
    },
    {
      "cell_type": "markdown",
      "source": [
        "### RobustScaler vs StandardScaler\n",
        "**RobustScaler dipilih karena:**\n",
        "- **Robust terhadap outliers**: Menggunakan median dan IQR\n",
        "- **Preserves distribution shape**: Tidak mengasumsikan distribusi normal\n",
        "- **Better for music data**: Audio features sering memiliki outliers natural\n",
        "\n",
        "**Formula RobustScaler:**\n",
        "X_scaled = (X - median(X)) / IQR(X)\n",
        "\n",
        "### Impact pada Similarity Calculation:\n",
        "- Semua features berkontribusi secara seimbang\n",
        "- Menghindari dominasi features dengan skala besar\n",
        "- Meningkatkan akurasi cosine similarity"
      ],
      "metadata": {
        "id": "r_n6ul8EYLvN"
      }
    },
    {
      "cell_type": "markdown",
      "source": [
        "## Data Preprocessing (Prapemrosesan)\n",
        "\n",
        "Langkah-langkah yang dilakukan:\n",
        "- Memilih subset kolom fitur yang digunakan untuk model rekomendasi.\n",
        "- Menghapus baris dengan nilai kosong dan duplikat berdasarkan `track_name` dan `track_artist`.\n",
        "- Menyimpan nama lagu dan artis sebagai index.\n",
        "- Melakukan normalisasi fitur menggunakan `RobustScaler` untuk mengurangi dampak outlier."
      ],
      "metadata": {
        "id": "UZ4x2EfhM67J"
      }
    },
    {
      "cell_type": "markdown",
      "source": [
        "# Rekomendasi Lagu"
      ],
      "metadata": {
        "id": "QjkyLooUuQFD"
      }
    },
    {
      "cell_type": "code",
      "source": [
        "# Cosine similarity\n",
        "similarity = pd.DataFrame(data=cosine_similarity(df_scaled[features]),\n",
        "                   index=df_scaled.index,\n",
        "                   columns=df_scaled.index)\n"
      ],
      "metadata": {
        "id": "ViNHKOJL1v3C"
      },
      "execution_count": 17,
      "outputs": []
    },
    {
      "cell_type": "markdown",
      "source": [
        "-\n",
        "Menggunakan **Cosine Similarity** untuk mengukur kemiripan antara lagu berdasarkan fitur numerik. Nilai similarity mendekati 1 berarti sangat mirip."
      ],
      "metadata": {
        "id": "Wez_eBb6N_9X"
      }
    },
    {
      "cell_type": "code",
      "source": [
        "def recommendation_system(song_name, artist_name=None, genre_filter=None, num=10):\n",
        "    if artist_name:\n",
        "        key = (song_name, artist_name)\n",
        "    else:\n",
        "        # Cari pasangan (track_name, artist) berdasarkan nama lagu\n",
        "        candidates = [idx for idx in similarity.index if idx[0].lower() == song_name.lower()]\n",
        "        if not candidates:\n",
        "            print(\"Lagu tidak ditemukan dalam data.\")\n",
        "            return\n",
        "        key = candidates[0]\n",
        "\n",
        "    if key not in similarity.index:\n",
        "        print(\"Lagu tidak ditemukan dalam index.\")\n",
        "        return\n",
        "\n",
        "    # Ambil skor kemiripan\n",
        "    sim_scores = similarity.loc[key].sort_values(ascending=False)\n",
        "    sim_scores = sim_scores[sim_scores.index != key]  # Hilangkan lagu itu sendiri\n",
        "\n",
        "    if genre_filter:\n",
        "        # Filter berdasarkan genre\n",
        "        genre_mask = df.set_index(['track_name', 'track_artist'])['playlist_genre'] == genre_filter\n",
        "        genre_index = genre_mask[genre_mask].index\n",
        "        sim_scores = sim_scores[sim_scores.index.isin(genre_index)]\n",
        "\n",
        "    # Ambil hasil top-N\n",
        "    top_n = sim_scores.head(num)\n",
        "\n",
        "    # Buat DataFrame hasil rekomendasi\n",
        "    results = pd.DataFrame(top_n).reset_index()\n",
        "    results.columns = ['track_name', 'track_artist', 'similarity']\n",
        "\n",
        "    # Return dataframe agar otomatis tampil di Jupyter\n",
        "    return results.style.set_caption(\n",
        "        f\"🎵 Rekomendasi Lagu untuk '{song_name}' oleh '{artist_name or key[1]}'\"\n",
        "    ).format({\n",
        "        \"similarity\": \"{:.5f}\"\n",
        "    })"
      ],
      "metadata": {
        "id": "AhPkEW2U1yzO"
      },
      "execution_count": 25,
      "outputs": []
    },
    {
      "cell_type": "markdown",
      "source": [
        "## Sistem Rekomendasi Musik\n",
        "\n",
        "### Content-Based Filtering dengan Cosine Similarity\n",
        "\n",
        "Sistem rekomendasi yang dibangun menggunakan pendekatan **Content-Based Filtering** yang menganalisis kesamaan karakteristik audio antar lagu.\n",
        "\n",
        "### Konsep Dasar:\n",
        "- **Input**: Lagu yang disukai pengguna\n",
        "- **Process**: Analisis audio features untuk mencari lagu serupa\n",
        "- **Output**: Top-N rekomendasi lagu dengan karakteristik serupa\n"
      ],
      "metadata": {
        "id": "el9Jz_ZZblP6"
      }
    },
    {
      "cell_type": "code",
      "source": [
        "# Contoh penggunaan\n",
        "recommendation_system(\"Shape of You\", artist_name=\"Ed Sheeran\", genre_filter=\"pop\", num=15)"
      ],
      "metadata": {
        "colab": {
          "base_uri": "https://localhost:8080/",
          "height": 537
        },
        "id": "S0bNHLfO11RO",
        "outputId": "ce3e1515-4460-4fdf-94f8-6cd483391257"
      },
      "execution_count": 26,
      "outputs": [
        {
          "output_type": "execute_result",
          "data": {
            "text/plain": [
              "<pandas.io.formats.style.Styler at 0x780909cf7450>"
            ],
            "text/html": [
              "<style type=\"text/css\">\n",
              "</style>\n",
              "<table id=\"T_8c05e\" class=\"dataframe\">\n",
              "  <caption>🎵 Rekomendasi Lagu untuk 'Shape of You' oleh 'Ed Sheeran'</caption>\n",
              "  <thead>\n",
              "    <tr>\n",
              "      <th class=\"blank level0\" >&nbsp;</th>\n",
              "      <th id=\"T_8c05e_level0_col0\" class=\"col_heading level0 col0\" >track_name</th>\n",
              "      <th id=\"T_8c05e_level0_col1\" class=\"col_heading level0 col1\" >track_artist</th>\n",
              "      <th id=\"T_8c05e_level0_col2\" class=\"col_heading level0 col2\" >similarity</th>\n",
              "    </tr>\n",
              "  </thead>\n",
              "  <tbody>\n",
              "    <tr>\n",
              "      <th id=\"T_8c05e_level0_row0\" class=\"row_heading level0 row0\" >0</th>\n",
              "      <td id=\"T_8c05e_row0_col0\" class=\"data row0 col0\" >Sunflower - Spider-Man: Into the Spider-Verse</td>\n",
              "      <td id=\"T_8c05e_row0_col1\" class=\"data row0 col1\" >Post Malone</td>\n",
              "      <td id=\"T_8c05e_row0_col2\" class=\"data row0 col2\" >0.96396</td>\n",
              "    </tr>\n",
              "    <tr>\n",
              "      <th id=\"T_8c05e_level0_row1\" class=\"row_heading level0 row1\" >1</th>\n",
              "      <td id=\"T_8c05e_row1_col0\" class=\"data row1 col0\" >The Weekend - Funk Wav Remix</td>\n",
              "      <td id=\"T_8c05e_row1_col1\" class=\"data row1 col1\" >SZA</td>\n",
              "      <td id=\"T_8c05e_row1_col2\" class=\"data row1 col2\" >0.95125</td>\n",
              "    </tr>\n",
              "    <tr>\n",
              "      <th id=\"T_8c05e_level0_row2\" class=\"row_heading level0 row2\" >2</th>\n",
              "      <td id=\"T_8c05e_row2_col0\" class=\"data row2 col0\" >How You Love Me (feat. Conor Maynard & Snoop Dogg)</td>\n",
              "      <td id=\"T_8c05e_row2_col1\" class=\"data row2 col1\" >Hardwell</td>\n",
              "      <td id=\"T_8c05e_row2_col2\" class=\"data row2 col2\" >0.95115</td>\n",
              "    </tr>\n",
              "    <tr>\n",
              "      <th id=\"T_8c05e_level0_row3\" class=\"row_heading level0 row3\" >3</th>\n",
              "      <td id=\"T_8c05e_row3_col0\" class=\"data row3 col0\" >in my miNd</td>\n",
              "      <td id=\"T_8c05e_row3_col1\" class=\"data row3 col1\" >Maty Noyes</td>\n",
              "      <td id=\"T_8c05e_row3_col2\" class=\"data row3 col2\" >0.92641</td>\n",
              "    </tr>\n",
              "    <tr>\n",
              "      <th id=\"T_8c05e_level0_row4\" class=\"row_heading level0 row4\" >4</th>\n",
              "      <td id=\"T_8c05e_row4_col0\" class=\"data row4 col0\" >Baby I'm Yours - feat. Irfane</td>\n",
              "      <td id=\"T_8c05e_row4_col1\" class=\"data row4 col1\" >Breakbot</td>\n",
              "      <td id=\"T_8c05e_row4_col2\" class=\"data row4 col2\" >0.91472</td>\n",
              "    </tr>\n",
              "    <tr>\n",
              "      <th id=\"T_8c05e_level0_row5\" class=\"row_heading level0 row5\" >5</th>\n",
              "      <td id=\"T_8c05e_row5_col0\" class=\"data row5 col0\" >fuck, i'm lonely (with Anne-Marie) - from “13 Reasons Why: Season 3”</td>\n",
              "      <td id=\"T_8c05e_row5_col1\" class=\"data row5 col1\" >Lauv</td>\n",
              "      <td id=\"T_8c05e_row5_col2\" class=\"data row5 col2\" >0.90715</td>\n",
              "    </tr>\n",
              "    <tr>\n",
              "      <th id=\"T_8c05e_level0_row6\" class=\"row_heading level0 row6\" >6</th>\n",
              "      <td id=\"T_8c05e_row6_col0\" class=\"data row6 col0\" >Johnny Run Away</td>\n",
              "      <td id=\"T_8c05e_row6_col1\" class=\"data row6 col1\" >Tones and I</td>\n",
              "      <td id=\"T_8c05e_row6_col2\" class=\"data row6 col2\" >0.90507</td>\n",
              "    </tr>\n",
              "    <tr>\n",
              "      <th id=\"T_8c05e_level0_row7\" class=\"row_heading level0 row7\" >7</th>\n",
              "      <td id=\"T_8c05e_row7_col0\" class=\"data row7 col0\" >Way Back Home</td>\n",
              "      <td id=\"T_8c05e_row7_col1\" class=\"data row7 col1\" >SHAUN</td>\n",
              "      <td id=\"T_8c05e_row7_col2\" class=\"data row7 col2\" >0.89794</td>\n",
              "    </tr>\n",
              "    <tr>\n",
              "      <th id=\"T_8c05e_level0_row8\" class=\"row_heading level0 row8\" >8</th>\n",
              "      <td id=\"T_8c05e_row8_col0\" class=\"data row8 col0\" >Starving</td>\n",
              "      <td id=\"T_8c05e_row8_col1\" class=\"data row8 col1\" >Hailee Steinfeld</td>\n",
              "      <td id=\"T_8c05e_row8_col2\" class=\"data row8 col2\" >0.89659</td>\n",
              "    </tr>\n",
              "    <tr>\n",
              "      <th id=\"T_8c05e_level0_row9\" class=\"row_heading level0 row9\" >9</th>\n",
              "      <td id=\"T_8c05e_row9_col0\" class=\"data row9 col0\" >If I Can't Have You</td>\n",
              "      <td id=\"T_8c05e_row9_col1\" class=\"data row9 col1\" >Shawn Mendes</td>\n",
              "      <td id=\"T_8c05e_row9_col2\" class=\"data row9 col2\" >0.89537</td>\n",
              "    </tr>\n",
              "    <tr>\n",
              "      <th id=\"T_8c05e_level0_row10\" class=\"row_heading level0 row10\" >10</th>\n",
              "      <td id=\"T_8c05e_row10_col0\" class=\"data row10 col0\" >Alone, Pt. II</td>\n",
              "      <td id=\"T_8c05e_row10_col1\" class=\"data row10 col1\" >Alan Walker</td>\n",
              "      <td id=\"T_8c05e_row10_col2\" class=\"data row10 col2\" >0.89349</td>\n",
              "    </tr>\n",
              "    <tr>\n",
              "      <th id=\"T_8c05e_level0_row11\" class=\"row_heading level0 row11\" >11</th>\n",
              "      <td id=\"T_8c05e_row11_col0\" class=\"data row11 col0\" >Gravity</td>\n",
              "      <td id=\"T_8c05e_row11_col1\" class=\"data row11 col1\" >Ralph</td>\n",
              "      <td id=\"T_8c05e_row11_col2\" class=\"data row11 col2\" >0.89146</td>\n",
              "    </tr>\n",
              "    <tr>\n",
              "      <th id=\"T_8c05e_level0_row12\" class=\"row_heading level0 row12\" >12</th>\n",
              "      <td id=\"T_8c05e_row12_col0\" class=\"data row12 col0\" >Show Me Love - EDX Remix / Radio Edit</td>\n",
              "      <td id=\"T_8c05e_row12_col1\" class=\"data row12 col1\" >Sam Feldt</td>\n",
              "      <td id=\"T_8c05e_row12_col2\" class=\"data row12 col2\" >0.88945</td>\n",
              "    </tr>\n",
              "    <tr>\n",
              "      <th id=\"T_8c05e_level0_row13\" class=\"row_heading level0 row13\" >13</th>\n",
              "      <td id=\"T_8c05e_row13_col0\" class=\"data row13 col0\" >Closer (feat. Halsey)</td>\n",
              "      <td id=\"T_8c05e_row13_col1\" class=\"data row13 col1\" >The Chainsmokers</td>\n",
              "      <td id=\"T_8c05e_row13_col2\" class=\"data row13 col2\" >0.88729</td>\n",
              "    </tr>\n",
              "    <tr>\n",
              "      <th id=\"T_8c05e_level0_row14\" class=\"row_heading level0 row14\" >14</th>\n",
              "      <td id=\"T_8c05e_row14_col0\" class=\"data row14 col0\" >Younger</td>\n",
              "      <td id=\"T_8c05e_row14_col1\" class=\"data row14 col1\" >Jonas Blue</td>\n",
              "      <td id=\"T_8c05e_row14_col2\" class=\"data row14 col2\" >0.88446</td>\n",
              "    </tr>\n",
              "  </tbody>\n",
              "</table>\n"
            ]
          },
          "metadata": {},
          "execution_count": 26
        }
      ]
    },
    {
      "cell_type": "markdown",
      "source": [
        "Menampilkan 15 rekomendasi lagu berdasarkan lagu:  \n",
        "**\"Shape of You\" oleh Ed Sheeran**, difilter pada genre: `pop`."
      ],
      "metadata": {
        "id": "4rWVYX8uS50p"
      }
    },
    {
      "cell_type": "markdown",
      "source": [
        "# Evaluasi"
      ],
      "metadata": {
        "id": "KtB3x33OAGuY"
      }
    },
    {
      "cell_type": "code",
      "source": [
        "def evaluate_recommendation(song_name, artist_name, top_k=10):\n",
        "    key = (song_name, artist_name)\n",
        "    if key not in similarity.index:\n",
        "        print(\"Lagu tidak ditemukan.\")\n",
        "        return\n",
        "\n",
        "    genre_asli = df.set_index(['track_name', 'track_artist']).loc[key]['playlist_genre']\n",
        "\n",
        "    if isinstance(genre_asli, pd.Series):\n",
        "        genre_asli = genre_asli.iloc[0]\n",
        "\n",
        "    sim_scores = similarity.loc[key].sort_values(ascending=False)\n",
        "    sim_scores = sim_scores[sim_scores.index != key]\n",
        "\n",
        "    # Ambil hanya top_k rekomendasi unik\n",
        "    top_recs = pd.Index(sim_scores.index).drop_duplicates().tolist()[:top_k]\n",
        "\n",
        "    # Ambil genre untuk masing-masing rekomendasi\n",
        "    try:\n",
        "        genres_recs = df.set_index(['track_name', 'track_artist']).loc[top_recs]['playlist_genre']\n",
        "    except KeyError:\n",
        "        print(\"Beberapa lagu rekomendasi tidak ditemukan dalam dataset.\")\n",
        "        return\n",
        "\n",
        "    genres_recs = genres_recs.reset_index(drop=True)\n",
        "    genre_match = (genres_recs == genre_asli).sum()\n",
        "    precision_at_k = genre_match / top_k\n",
        "\n",
        "    print(f\"Precision@{top_k} untuk '{song_name}' oleh '{artist_name}': {precision_at_k:.2f}\")\n",
        "    return precision_at_k"
      ],
      "metadata": {
        "id": "01ANlDAH66x0"
      },
      "execution_count": 62,
      "outputs": []
    },
    {
      "cell_type": "markdown",
      "source": [
        "## Evaluasi Individual\n",
        "\n",
        "### Fungsi evaluate_recommendation()\n",
        "\n",
        "**Langkah-langkah evaluasi:**\n",
        "\n",
        "1. **Genre Identification**: Mengidentifikasi genre lagu input sebagai ground truth\n",
        "2. **Get Recommendations**: Mengambil top-K lagu dengan similarity tertinggi  \n",
        "3. **Genre Matching**: Menghitung berapa rekomendasi yang memiliki genre sama\n",
        "4. **Precision Calculation**: Membagi jumlah match dengan K\n",
        "\n",
        "### Handling Edge Cases:\n",
        "- **Multiple genres**: Jika lagu memiliki multiple genre labels\n",
        "- **Missing genre**: Handling lagu tanpa label genre\n",
        "- **Duplicate handling**: Memastikan lagu input tidak termasuk dalam rekomendasi"
      ],
      "metadata": {
        "id": "oAE0AdoAcfPd"
      }
    },
    {
      "cell_type": "code",
      "source": [
        "evaluate_recommendation(\"Shape of You\", \"Ed Sheeran\", top_k=10);"
      ],
      "metadata": {
        "colab": {
          "base_uri": "https://localhost:8080/"
        },
        "id": "M2CY0urQ7Rct",
        "outputId": "c27826e5-955b-4a0e-fbab-9422f7f8cf10"
      },
      "execution_count": 63,
      "outputs": [
        {
          "output_type": "stream",
          "name": "stdout",
          "text": [
            "Precision@10 untuk 'Shape of You' oleh 'Ed Sheeran': 0.70\n"
          ]
        }
      ]
    },
    {
      "cell_type": "markdown",
      "source": [
        "### Example Interpretation:\n",
        "**Precision@10 = 0.7** artinya:\n",
        "- 7 dari 10 rekomendasi memiliki genre sama dengan input\n",
        "- 70% akurasi berdasarkan genre similarity\n",
        "- Indikator performa yang baik untuk content-based system"
      ],
      "metadata": {
        "id": "M5GWYGlMcoLO"
      }
    },
    {
      "cell_type": "code",
      "source": [
        "def batch_evaluate_recommendation(song_list, top_k=10):\n",
        "    precisions = []\n",
        "\n",
        "    for song_name, artist_name in song_list:\n",
        "        try:\n",
        "            p = evaluate_recommendation(song_name, artist_name, top_k)\n",
        "            if p is not None:\n",
        "                precisions.append({\n",
        "                    'track_name': song_name,\n",
        "                    'track_artist': artist_name,\n",
        "                    'precision': p\n",
        "                })\n",
        "        except Exception as e:\n",
        "            print(f\"Error evaluating {song_name} - {artist_name}: {e}\")\n",
        "\n",
        "    result_df = pd.DataFrame(precisions)\n",
        "    mean_precision = result_df['precision'].mean()\n",
        "    print(f\"\\n🎯 Mean Precision@{top_k} untuk {len(result_df)} lagu: {mean_precision:.2f}\")\n",
        "    return result_df\n"
      ],
      "metadata": {
        "id": "6LikMum7_mxw"
      },
      "execution_count": 64,
      "outputs": []
    },
    {
      "cell_type": "code",
      "source": [
        "def plot_precision_scores(result_df):\n",
        "    plt.figure(figsize=(10, 6))\n",
        "    sns.barplot(x='precision', y='track_name', data=result_df, palette='viridis')\n",
        "    plt.xlabel('Precision@K')\n",
        "    plt.ylabel('Track')\n",
        "    plt.title('Precision@K per Lagu')\n",
        "    plt.xlim(0, 1)\n",
        "    plt.tight_layout()\n",
        "    plt.show()"
      ],
      "metadata": {
        "id": "nlkoHBNc_oSg"
      },
      "execution_count": 65,
      "outputs": []
    },
    {
      "cell_type": "code",
      "source": [
        "sample_songs = [\n",
        "    (\"Shape of You\", \"Ed Sheeran\"),\n",
        "    (\"Blinding Lights\", \"The Weeknd\"),\n",
        "    (\"Someone Like You\", \"Adele\"),\n",
        "    (\"Happier\", \"Marshmello\"),\n",
        "    (\"bad guy\", \"Billie Eilish\"),\n",
        "]\n",
        "\n",
        "# Evaluasi batch\n",
        "results = batch_evaluate_recommendation(sample_songs, top_k=10)\n",
        "\n",
        "# Plot hasilnya\n",
        "plot_precision_scores(results)"
      ],
      "metadata": {
        "colab": {
          "base_uri": "https://localhost:8080/",
          "height": 735
        },
        "id": "yw8x8m5p_qyl",
        "outputId": "8199bf49-45c9-4a28-a7fc-3564ca2ec487"
      },
      "execution_count": 67,
      "outputs": [
        {
          "output_type": "stream",
          "name": "stdout",
          "text": [
            "Precision@10 untuk 'Shape of You' oleh 'Ed Sheeran': 0.70\n",
            "Precision@10 untuk 'Blinding Lights' oleh 'The Weeknd': 0.90\n",
            "Precision@10 untuk 'Someone Like You' oleh 'Adele': 0.40\n",
            "Precision@10 untuk 'Happier' oleh 'Marshmello': 1.00\n",
            "Precision@10 untuk 'bad guy' oleh 'Billie Eilish': 0.50\n",
            "\n",
            "🎯 Mean Precision@10 untuk 5 lagu: 0.70\n"
          ]
        },
        {
          "output_type": "display_data",
          "data": {
            "text/plain": [
              "<Figure size 1000x600 with 1 Axes>"
            ],
            "image/png": "[encoded data removed]"
          },
          "metadata": {}
        }
      ]
    },
    {
      "cell_type": "markdown",
      "source": [
        "## 📈 Evaluasi Batch dan Visualisasi\n",
        "\n",
        "### Batch Evaluation Strategy\n",
        "\n",
        "**Mengapa Batch Evaluation?**\n",
        "- **Statistical Significance**: Evaluasi single song bisa bias\n",
        "- **Overall Performance**: Mengukur performa sistem secara keseluruhan\n",
        "- **Comparative Analysis**: Membandingkan performa across different songs/genres\n",
        "\n",
        "### Sample Songs Selection:\n",
        "Memilih 5 lagu populer dari berbagai genre:\n",
        "- **Diversity**: Representasi berbagai genre dan karakteristik\n",
        "- **Popularity**: Lagu-lagu yang dikenal luas untuk interpretability\n",
        "- **Balance**: Mix antara male/female artists, tempo, era\n",
        "\n",
        "Sistem rekomendasi berhasil memberikan hasil yang cukup relevan dengan rata-rata Precision@10 sebesar 0.70. Artinya, 7 dari 10 lagu teratas umumnya memiliki genre yang sama dengan lagu input. Meski menunjukkan performa tinggi pada beberapa lagu seperti \"Happier\" dan \"Blinding Lights\", sistem masih perlu diperbaiki untuk lagu dengan genre yang lebih bervariasi. Evaluasi ini menunjukkan bahwa pendekatan content-based cukup efektif, namun akan lebih baik jika dikombinasikan dengan pendekatan lain seperti hybrid filtering untuk hasil yang lebih personal dan beragam."
      ],
      "metadata": {
        "id": "0zk45onZdFwB"
      }
    }
  ]
}